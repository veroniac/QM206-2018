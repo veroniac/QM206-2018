{
 "cells": [
  {
   "cell_type": "code",
   "execution_count": 21,
   "metadata": {},
   "outputs": [],
   "source": [
    "import numpy as np"
   ]
  },
  {
   "cell_type": "code",
   "execution_count": 43,
   "metadata": {},
   "outputs": [],
   "source": [
    "class estadistica:\n",
    "    def __init__(self,x):\n",
    "        self.x=x\n",
    "    def promedio(self):\n",
    "        n=len(self.x)\n",
    "        promedio=sum(self.x)/n\n",
    "        return promedio\n",
    "\n",
    "    def varianza(self):\n",
    "        n=len(self.x)\n",
    "        sigma2=sum((self.x-promedio(self.x))*(self.x-promedio(self.x)))/(n-1)\n",
    "        return sigma2\n",
    "    def minimo(self):\n",
    "        minx=9E99\n",
    "        for a in self.x:\n",
    "            if a<minx:\n",
    "                minx=a\n",
    "        return minx\n",
    "    def maximo(self):\n",
    "        maxx=-9E99\n",
    "        for a in self.x:\n",
    "            if a>maxx:\n",
    "                maxx=a\n",
    "        return maxx"
   ]
  },
  {
   "cell_type": "code",
   "execution_count": 16,
   "metadata": {},
   "outputs": [],
   "source": [
    "def promedio(x):\n",
    "    n=len(x)\n",
    "    promedio=sum(x)/n\n",
    "    return promedio\n",
    "def varianza(x):\n",
    "    n=len(x)\n",
    "    sigma2=sum((x-promedio(x))*(x-promedio(x)))/(n-1)\n",
    "    return sigma2\n",
    "def minimo(x):\n",
    "    minx=9E99\n",
    "    for a in x:\n",
    "        if a<minx:\n",
    "            minx=a\n",
    "    return minx\n",
    "def maximo(x):\n",
    "    maxx=-9E99\n",
    "    for a in x:\n",
    "        if a>maxx:\n",
    "            maxx=a\n",
    "    return maxx"
   ]
  },
  {
   "cell_type": "code",
   "execution_count": 37,
   "metadata": {},
   "outputs": [
    {
     "name": "stdout",
     "output_type": "stream",
     "text": [
      "9.714285714285714\n",
      "120.23809523809523\n"
     ]
    }
   ],
   "source": [
    "x=np.array([8,4,5,6,2,34,9])\n",
    "print(promedio(x))\n",
    "print(varianza(x))"
   ]
  },
  {
   "cell_type": "code",
   "execution_count": 13,
   "metadata": {},
   "outputs": [
    {
     "name": "stdout",
     "output_type": "stream",
     "text": [
      "Promedio=-0.0244\n",
      "Varianza=1.1148\n"
     ]
    }
   ],
   "source": [
    "x=np.random.randn(100)\n",
    "print('Promedio=%3.4f'%promedio(x))\n",
    "print('Varianza=%3.4F'%varianza(x))"
   ]
  },
  {
   "cell_type": "code",
   "execution_count": 20,
   "metadata": {},
   "outputs": [
    {
     "name": "stdout",
     "output_type": "stream",
     "text": [
      "Mínimo=2.0000\n",
      "Máximo=34.0000\n"
     ]
    }
   ],
   "source": [
    "x=np.array([8,4,5,6,2,34,9])\n",
    "print('Mínimo=%3.4f'%minimo(x))\n",
    "print('Máximo=%3.4f'%maximo(x))"
   ]
  },
  {
   "cell_type": "code",
   "execution_count": 44,
   "metadata": {},
   "outputs": [],
   "source": [
    "x=np.array([8,4,5,6,2,34,9])\n",
    "st=estadistica(x)"
   ]
  },
  {
   "cell_type": "code",
   "execution_count": 45,
   "metadata": {},
   "outputs": [
    {
     "data": {
      "text/plain": [
       "9.714285714285714"
      ]
     },
     "execution_count": 45,
     "metadata": {},
     "output_type": "execute_result"
    }
   ],
   "source": [
    "st.promedio()"
   ]
  },
  {
   "cell_type": "code",
   "execution_count": 46,
   "metadata": {},
   "outputs": [
    {
     "data": {
      "text/plain": [
       "120.23809523809523"
      ]
     },
     "execution_count": 46,
     "metadata": {},
     "output_type": "execute_result"
    }
   ],
   "source": [
    "st.varianza()\n"
   ]
  },
  {
   "cell_type": "code",
   "execution_count": 47,
   "metadata": {},
   "outputs": [
    {
     "data": {
      "text/plain": [
       "2"
      ]
     },
     "execution_count": 47,
     "metadata": {},
     "output_type": "execute_result"
    }
   ],
   "source": [
    "st.minimo()"
   ]
  },
  {
   "cell_type": "code",
   "execution_count": 48,
   "metadata": {},
   "outputs": [
    {
     "data": {
      "text/plain": [
       "34"
      ]
     },
     "execution_count": 48,
     "metadata": {},
     "output_type": "execute_result"
    }
   ],
   "source": [
    "st.maximo()"
   ]
  },
  {
   "cell_type": "code",
   "execution_count": null,
   "metadata": {},
   "outputs": [],
   "source": []
  }
 ],
 "metadata": {
  "kernelspec": {
   "display_name": "Python 3",
   "language": "python",
   "name": "python3"
  },
  "language_info": {
   "codemirror_mode": {
    "name": "ipython",
    "version": 3
   },
   "file_extension": ".py",
   "mimetype": "text/x-python",
   "name": "python",
   "nbconvert_exporter": "python",
   "pygments_lexer": "ipython3",
   "version": "3.6.5"
  }
 },
 "nbformat": 4,
 "nbformat_minor": 2
}
