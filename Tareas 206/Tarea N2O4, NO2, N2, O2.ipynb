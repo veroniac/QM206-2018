{
 "cells": [
  {
   "cell_type": "code",
   "execution_count": 3,
   "metadata": {},
   "outputs": [],
   "source": [
    "import numpy as np\n",
    "import matplotlib.pyplot as plt\n",
    "import requests"
   ]
  },
  {
   "cell_type": "code",
   "execution_count": 25,
   "metadata": {},
   "outputs": [],
   "source": [
    "#N2O4"
   ]
  },
  {
   "cell_type": "code",
   "execution_count": 6,
   "metadata": {},
   "outputs": [
    {
     "name": "stdout",
     "output_type": "stream",
     "text": [
      "['100', '46.262', '239.166', '363.098', '-12.393', '14.011', '40.737', '-21.279']\n",
      "['200', '63.206', '276.398', '311.015', '-6.923', '10.749', '68.860', '-17.984']\n",
      "['250', '70.825', '291.339', '305.613', '-3.568', '9.732', '83.513', '-17.449']\n",
      "['298.15', '77.256', '304.376', '304.376', '0.', '9.079', '97.787', '-17.132']\n",
      "['300', '77.487', '304.854', '304.377', '0.143', '9.060', '98.338', '-17.122']\n",
      "['350', '83.340', '317.248', '305.343', '4.167', '8.673', '113.251', '-16.902']\n",
      "['400', '88.521', '328.722', '307.557', '8.466', '8.523', '128.204', '-16.742']\n",
      "['450', '93.121', '339.419', '310.509', '13.009', '8.567', '143.163', '-16.618']\n",
      "['500', '97.204', '349.446', '313.907', '17.769', '8.769', '158.109', '-16.518']\n",
      "['600', '104.012', '367.795', '321.388', '27.844', '9.542', '187.911', '-16.359']\n",
      "['700', '109.314', '384.244', '329.213', '38.522', '10.667', '217.555', '-16.234']\n",
      "['800', '113.439', '399.122', '337.037', '49.668', '12.030', '247.019', '-16.129']\n",
      "['900', '116.665', '412.677', '344.700', '61.180', '13.554', '276.303', '-16.036']\n",
      "['1000', '119.208', '425.106', '352.127', '72.978', '15.189', '305.410', '-15.953']\n",
      "['1100', '121.235', '436.566', '359.290', '85.004', '16.899', '334.350', '-15.877']\n",
      "['1200', '122.867', '447.187', '366.177', '97.212', '18.661', '363.132', '-15.807']\n",
      "['1300', '124.196', '457.076', '372.794', '109.567', '20.456', '391.765', '-15.741']\n",
      "['1400', '125.290', '466.321', '379.148', '122.044', '22.272', '420.259', '-15.680']\n",
      "['1500', '126.198', '474.997', '385.251', '134.619', '24.097', '448.623', '-15.622']\n",
      "['1600', '126.959', '483.167', '391.118', '147.278', '25.922', '476.865', '-15.568']\n",
      "['1700', '127.603', '490.884', '396.762', '160.007', '27.742', '504.994', '-15.517']\n",
      "['1800', '128.152', '498.193', '402.196', '172.796', '29.550', '533.014', '-15.468']\n",
      "['1900', '128.623', '505.135', '407.432', '185.635', '31.340', '560.936', '-15.421']\n",
      "['2000', '129.030', '511.743', '412.484', '198.518', '33.110', '588.764', '-15.377']\n",
      "['2100', '129.385', '518.047', '417.362', '211.439', '34.855', '616.503', '-15.335']\n",
      "['2200', '129.694', '524.074', '422.077', '224.394', '36.573', '644.162', '-15.294']\n",
      "['2300', '129.967', '529.845', '426.638', '237.377', '38.262', '671.741', '-15.256']\n",
      "['2400', '130.208', '535.381', '431.054', '250.386', '39.920', '699.247', '-15.219']\n",
      "['2500', '130.421', '540.701', '435.334', '263.418', '41.545', '726.685', '-15.183']\n",
      "['2600', '130.612', '545.820', '439.486', '276.469', '43.138', '754.059', '-15.149']\n",
      "['2700', '130.783', '550.753', '443.516', '289.539', '44.698', '781.373', '-15.117']\n",
      "['2800', '130.936', '555.512', '447.431', '302.625', '46.224', '808.630', '-15.085']\n",
      "['2900', '131.074', '560.109', '451.238', '315.726', '47.718', '835.831', '-15.055']\n",
      "['3000', '131.200', '564.555', '454.942', '328.840', '49.178', '862.983', '-15.026']\n",
      "['3100', '131.313', '568.859', '458.547', '341.966', '50.606', '890.087', '-14.998']\n",
      "['3200', '131.417', '573.029', '462.060', '355.102', '52.002', '917.144', '-14.971']\n",
      "['3300', '131.511', '577.075', '465.484', '368.249', '53.368', '944.157', '-14.945']\n",
      "['3400', '131.597', '581.002', '468.824', '381.404', '54.703', '971.132', '-14.920']\n",
      "['3500', '131.677', '584.818', '472.084', '394.568', '56.010', '998.066', '-14.895']\n",
      "['3600', '131.750', '588.528', '475.268', '407.739', '57.288', '1024.964', '-14.872']\n",
      "['3700', '131.817', '592.139', '478.378', '420.918', '58.538', '1051.826', '-14.849']\n",
      "['3800', '131.879', '595.655', '481.418', '434.102', '59.762', '1078.657', '-14.827']\n",
      "['3900', '131.936', '599.082', '484.391', '447.293', '60.960', '1105.455', '-14.806']\n",
      "['4000', '131.990', '602.423', '487.300', '460.490', '62.132', '1132.220', '-14.785']\n",
      "['4100', '132.039', '605.683', '490.148', '473.691', '63.279', '1158.958', '-14.765']\n",
      "['4200', '132.085', '608.865', '492.937', '486.897', '64.402', '1185.669', '-14.746']\n",
      "['4300', '132.128', '611.973', '495.669', '500.108', '65.501', '1212.353', '-14.727']\n",
      "['4400', '132.168', '615.011', '498.347', '513.323', '66.575', '1239.011', '-14.709']\n",
      "['4500', '132.206', '617.982', '500.973', '526.542', '67.626', '1265.644', '-14.691']\n",
      "['4600', '132.241', '620.888', '503.548', '539.764', '68.653', '1292.255', '-14.674']\n",
      "['4700', '132.274', '623.733', '506.075', '552.990', '69.654', '1318.845', '-14.657']\n",
      "['4800', '132.305', '626.518', '508.555', '566.219', '70.630', '1345.413', '-14.641']\n",
      "['4900', '132.334', '629.246', '510.991', '579.451', '71.581', '1371.962', '-14.625']\n",
      "['5000', '132.361', '631.920', '513.383', '592.685', '72.504', '1398.491', '-14.610']\n",
      "['5100', '132.387', '634.541', '515.733', '605.923', '73.400', '1425.003', '-14.595']\n",
      "['5200', '132.411', '637.112', '518.042', '619.163', '74.267', '1451.494', '-14.580']\n",
      "['5300', '132.434', '639.635', '520.313', '632.405', '75.104', '1477.973', '-14.566']\n",
      "['5400', '132.456', '642.110', '522.545', '645.649', '75.908', '1504.434', '-14.553']\n",
      "['5500', '132.476', '644.541', '524.742', '658.896', '76.680', '1530.880', '-14.539']\n",
      "['5600', '132.496', '646.928', '526.902', '672.145', '77.417', '1557.315', '-14.526']\n",
      "['5700', '132.514', '649.273', '529.029', '685.395', '78.116', '1583.734', '-14.513']\n",
      "['5800', '132.532', '651.578', '531.122', '698.648', '78.776', '1610.145', '-14.501']\n",
      "['5900', '132.549', '653.844', '533.183', '711.902', '79.394', '1636.539', '-14.489']\n",
      "['6000', '132.564', '656.072', '535.212', '725.157', '79.968', '1662.928', '-14.477']\n"
     ]
    }
   ],
   "source": [
    "\n",
    "url=\"https://janaf.nist.gov/tables/N-032.txt\"\n",
    "file=requests.get(url)\n",
    "datos=file.text\n",
    "datos=datos.split(\"\\n\")[3:-1]\n",
    "mat=[]\n",
    "for x in datos:\n",
    "    s=x.split(\"\\t\")\n",
    "    print(s)\n",
    "    mat.append([float(a) for a in (s)])\n",
    "mat=np.array(mat)"
   ]
  },
  {
   "cell_type": "code",
   "execution_count": 7,
   "metadata": {},
   "outputs": [
    {
     "data": {
      "image/png": "[encoded data removed]",
      "text/plain": [
       "<Figure size 432x288 with 1 Axes>"
      ]
     },
     "metadata": {},
     "output_type": "display_data"
    }
   ],
   "source": [
    "T=mat[:,0]\n",
    "Cp=mat[:,1]\n",
    "plt.plot(T,Cp)\n",
    "plt.show()"
   ]
  },
  {
   "cell_type": "code",
   "execution_count": 9,
   "metadata": {},
   "outputs": [
    {
     "data": {
      "text/plain": [
       "array([  38.2927477 ,  176.30579444, -130.69893451,   35.54825866,\n",
       "         -0.26138733])"
      ]
     },
     "execution_count": 9,
     "metadata": {},
     "output_type": "execute_result"
    }
   ],
   "source": [
    "T=T[3:16]\n",
    "y=Cp[3:16]\n",
    "t=T/1000\n",
    "n=len(T)\n",
    "X=np.array([np.ones(n),t,t**2,t**3,1/t**2]).T\n",
    "beta=np.linalg.inv(X.T.dot(X)).dot(X.T.dot(y))\n",
    "beta"
   ]
  },
  {
   "cell_type": "code",
   "execution_count": 10,
   "metadata": {},
   "outputs": [],
   "source": [
    "Cp_calc=beta.dot(X.T)"
   ]
  },
  {
   "cell_type": "code",
   "execution_count": 12,
   "metadata": {},
   "outputs": [
    {
     "data": {
      "image/png": "[encoded data removed]",
      "text/plain": [
       "<Figure size 432x288 with 1 Axes>"
      ]
     },
     "metadata": {},
     "output_type": "display_data"
    }
   ],
   "source": [
    "\n",
    "plt.scatter(T,y)\n",
    "plt.plot(T,Cp_calc,color=\"green\")\n",
    "plt.xlabel(\"T(K)\")\n",
    "plt.ylabel(\"Cp(J/K-mol)\")\n",
    "plt.show()"
   ]
  },
  {
   "cell_type": "code",
   "execution_count": 24,
   "metadata": {},
   "outputs": [],
   "source": [
    "#N2"
   ]
  },
  {
   "cell_type": "code",
   "execution_count": 14,
   "metadata": {},
   "outputs": [
    {
     "name": "stdout",
     "output_type": "stream",
     "text": [
      "['100', '29.104', '159.811', '217.490', '-5.768', '0.', '0.', '0.']\n",
      "['200', '29.107', '179.985', '194.272', '-2.857', '0.', '0.', '0.']\n",
      "['250', '29.111', '186.481', '192.088', '-1.402', '0.', '0.', '0.']\n",
      "['298.15', '29.124', '191.609', '191.609', '0.', '0.', '0.', '0.']\n",
      "['300', '29.125', '191.789', '191.610', '0.054', '0.', '0.', '0.']\n",
      "['350', '29.165', '196.281', '191.964', '1.511', '0.', '0.', '0.']\n",
      "['400', '29.249', '200.181', '192.753', '2.971', '0.', '0.', '0.']\n",
      "['450', '29.387', '203.633', '193.774', '4.437', '0.', '0.', '0.']\n",
      "['500', '29.580', '206.739', '194.917', '5.911', '0.', '0.', '0.']\n",
      "['600', '30.110', '212.176', '197.353', '8.894', '0.', '0.', '0.']\n",
      "['700', '30.754', '216.866', '199.813', '11.937', '0.', '0.', '0.']\n",
      "['800', '31.433', '221.017', '202.209', '15.046', '0.', '0.', '0.']\n",
      "['900', '32.090', '224.757', '204.510', '18.223', '0.', '0.', '0.']\n",
      "['1000', '32.697', '228.170', '206.708', '21.463', '0.', '0.', '0.']\n",
      "['1100', '33.241', '231.313', '208.804', '24.760', '0.', '0.', '0.']\n",
      "['1200', '33.723', '234.226', '210.802', '28.109', '0.', '0.', '0.']\n",
      "['1300', '34.147', '236.943', '212.710', '31.503', '0.', '0.', '0.']\n",
      "['1400', '34.518', '239.487', '214.533', '34.936', '0.', '0.', '0.']\n",
      "['1500', '34.843', '241.880', '216.277', '38.405', '0.', '0.', '0.']\n",
      "['1600', '35.128', '244.138', '217.948', '41.904', '0.', '0.', '0.']\n",
      "['1700', '35.378', '246.275', '219.552', '45.429', '0.', '0.', '0.']\n",
      "['1800', '35.600', '248.304', '221.094', '48.978', '0.', '0.', '0.']\n",
      "['1900', '35.796', '250.234', '222.577', '52.548', '0.', '0.', '0.']\n",
      "['2000', '35.971', '252.074', '224.006', '56.137', '0.', '0.', '0.']\n",
      "['2100', '36.126', '253.833', '225.385', '59.742', '0.', '0.', '0.']\n",
      "['2200', '36.268', '255.517', '226.717', '63.361', '0.', '0.', '0.']\n",
      "['2300', '36.395', '257.132', '228.004', '66.995', '0.', '0.', '0.']\n",
      "['2400', '36.511', '258.684', '229.250', '70.640', '0.', '0.', '0.']\n",
      "['2500', '36.616', '260.176', '230.458', '74.296', '0.', '0.', '0.']\n",
      "['2600', '36.713', '261.614', '231.629', '77.963', '0.', '0.', '0.']\n",
      "['2700', '36.801', '263.001', '232.765', '81.639', '0.', '0.', '0.']\n",
      "['2800', '36.883', '264.341', '233.869', '85.323', '0.', '0.', '0.']\n",
      "['2900', '36.959', '265.637', '234.942', '89.015', '0.', '0.', '0.']\n",
      "['3000', '37.030', '266.891', '235.986', '92.715', '0.', '0.', '0.']\n",
      "['3100', '37.096', '268.106', '237.003', '96.421', '0.', '0.', '0.']\n",
      "['3200', '37.158', '269.285', '237.993', '100.134', '0.', '0.', '0.']\n",
      "['3300', '37.216', '270.429', '238.959', '103.852', '0.', '0.', '0.']\n",
      "['3400', '37.271', '271.541', '239.901', '107.577', '0.', '0.', '0.']\n",
      "['3500', '37.323', '272.622', '240.821', '111.306', '0.', '0.', '0.']\n",
      "['3600', '37.373', '273.675', '241.719', '115.041', '0.', '0.', '0.']\n",
      "['3700', '37.420', '274.699', '242.596', '118.781', '0.', '0.', '0.']\n",
      "['3800', '37.465', '275.698', '243.454', '122.525', '0.', '0.', '0.']\n",
      "['3900', '37.508', '276.671', '244.294', '126.274', '0.', '0.', '0.']\n",
      "['4000', '37.550', '277.622', '245.115', '130.027', '0.', '0.', '0.']\n",
      "['4100', '37.590', '278.549', '245.919', '133.784', '0.', '0.', '0.']\n",
      "['4200', '37.629', '279.456', '246.707', '137.545', '0.', '0.', '0.']\n",
      "['4300', '37.666', '280.341', '247.479', '141.309', '0.', '0.', '0.']\n",
      "['4400', '37.702', '281.208', '248.236', '145.078', '0.', '0.', '0.']\n",
      "['4500', '37.738', '282.056', '248.978', '148.850', '0.', '0.', '0.']\n",
      "['4600', '37.773', '282.885', '249.706', '152.625', '0.', '0.', '0.']\n",
      "['4700', '37.808', '283.698', '250.420', '156.405', '0.', '0.', '0.']\n",
      "['4800', '37.843', '284.494', '251.122', '160.187', '0.', '0.', '0.']\n",
      "['4900', '37.878', '285.275', '251.811', '163.973', '0.', '0.', '0.']\n",
      "['5000', '37.912', '286.041', '252.488', '167.763', '0.', '0.', '0.']\n",
      "['5100', '37.947', '286.792', '253.153', '171.556', '0.', '0.', '0.']\n",
      "['5200', '37.981', '287.529', '253.807', '175.352', '0.', '0.', '0.']\n",
      "['5300', '38.013', '288.253', '254.451', '179.152', '0.', '0.', '0.']\n",
      "['5400', '38.046', '288.964', '255.083', '182.955', '0.', '0.', '0.']\n",
      "['5500', '38.080', '289.662', '255.705', '186.761', '0.', '0.', '0.']\n",
      "['5600', '38.116', '290.348', '256.318', '190.571', '0.', '0.', '0.']\n",
      "['5700', '38.154', '291.023', '256.921', '194.384', '0.', '0.', '0.']\n",
      "['5800', '38.193', '291.687', '257.515', '198.201', '0.', '0.', '0.']\n",
      "['5900', '38.234', '292.341', '258.099', '202.023', '0.', '0.', '0.']\n",
      "['6000', '38.276', '292.984', '258.675', '205.848', '0.', '0.', '0.']\n"
     ]
    }
   ],
   "source": [
    "url=\"https://janaf.nist.gov/tables/N-023.txt\"\n",
    "file=requests.get(url)\n",
    "datos=file.text\n",
    "datos=datos.split(\"\\n\")[3:-1]\n",
    "mat=[]\n",
    "for x in datos:\n",
    "    s=x.split(\"\\t\")\n",
    "    print(s)\n",
    "    mat.append([float(a) for a in (s)])\n",
    "mat=np.array(mat)"
   ]
  },
  {
   "cell_type": "code",
   "execution_count": 16,
   "metadata": {},
   "outputs": [
    {
     "data": {
      "image/png": "[encoded data removed]",
      "text/plain": [
       "<Figure size 432x288 with 1 Axes>"
      ]
     },
     "metadata": {},
     "output_type": "display_data"
    }
   ],
   "source": [
    "T=mat[:,0]\n",
    "Cp=mat[:,1]\n",
    "plt.plot(T,Cp)\n",
    "plt.show()"
   ]
  },
  {
   "cell_type": "code",
   "execution_count": 18,
   "metadata": {},
   "outputs": [
    {
     "data": {
      "text/plain": [
       "array([28.96656011, -5.01786509, 15.0429351 , -6.32548315,  0.04380671])"
      ]
     },
     "execution_count": 18,
     "metadata": {},
     "output_type": "execute_result"
    }
   ],
   "source": [
    "T=T[3:16]\n",
    "y=Cp[3:16]\n",
    "t=T/1000\n",
    "n=len(T)\n",
    "X=np.array([np.ones(n),t,t**2,t**3,1/t**2]).T\n",
    "beta=np.linalg.inv(X.T.dot(X)).dot(X.T.dot(y))\n",
    "beta"
   ]
  },
  {
   "cell_type": "code",
   "execution_count": 19,
   "metadata": {},
   "outputs": [],
   "source": [
    "Cp_calc=beta.dot(X.T)"
   ]
  },
  {
   "cell_type": "code",
   "execution_count": 21,
   "metadata": {},
   "outputs": [
    {
     "data": {
      "image/png": "[encoded data removed]",
      "text/plain": [
       "<Figure size 432x288 with 1 Axes>"
      ]
     },
     "metadata": {},
     "output_type": "display_data"
    }
   ],
   "source": [
    "plt.scatter(T,y)\n",
    "plt.plot(T,Cp_calc,color=\"black\")\n",
    "plt.xlabel(\"T(K)\")\n",
    "plt.ylabel(\"Cp(J/K-mol)\")\n",
    "plt.show()"
   ]
  },
  {
   "cell_type": "code",
   "execution_count": 23,
   "metadata": {},
   "outputs": [],
   "source": [
    "#NO2"
   ]
  },
  {
   "cell_type": "code",
   "execution_count": 26,
   "metadata": {},
   "outputs": [
    {
     "name": "stdout",
     "output_type": "stream",
     "text": [
      "['100', '33.276', '202.563', '271.168', '-6.861', '34.898', '39.963', '-20.874']\n",
      "['200', '34.385', '225.852', '243.325', '-3.495', '33.897', '45.422', '-11.863']\n",
      "['250', '35.593', '233.649', '240.634', '-1.746', '33.460', '48.355', '-10.103']\n",
      "['298.15', '36.974', '240.034', '240.034', '0.', '33.095', '51.258', '-8.980']\n",
      "['300', '37.029', '240.262', '240.034', '0.068', '33.083', '51.371', '-8.944']\n",
      "['350', '38.583', '246.086', '240.491', '1.958', '32.768', '54.445', '-8.125']\n",
      "['400', '40.171', '251.342', '241.524', '3.927', '32.512', '57.560', '-7.517']\n",
      "['450', '41.728', '256.164', '242.886', '5.975', '32.310', '60.703', '-7.046']\n",
      "['500', '43.206', '260.638', '244.440', '8.099', '32.154', '63.867', '-6.672']\n",
      "['600', '45.834', '268.755', '247.830', '12.555', '31.959', '70.230', '-6.114']\n",
      "['700', '47.986', '275.988', '251.345', '17.250', '31.878', '76.616', '-5.717']\n",
      "['800', '49.708', '282.512', '254.840', '22.138', '31.874', '83.008', '-5.420']\n",
      "['900', '51.076', '288.449', '258.250', '27.179', '31.923', '89.397', '-5.188']\n",
      "['1000', '52.166', '293.889', '261.545', '32.344', '32.005', '95.779', '-5.003']\n",
      "['1100', '53.041', '298.903', '264.717', '37.605', '32.109', '102.152', '-4.851']\n",
      "['1200', '53.748', '303.550', '267.761', '42.946', '32.226', '108.514', '-4.724']\n",
      "['1300', '54.326', '307.876', '270.683', '48.351', '32.351', '114.867', '-4.615']\n",
      "['1400', '54.803', '311.920', '273.485', '53.808', '32.478', '121.209', '-4.522']\n",
      "['1500', '55.200', '315.715', '276.175', '59.309', '32.603', '127.543', '-4.441']\n",
      "['1600', '55.533', '319.288', '278.759', '64.846', '32.724', '133.868', '-4.370']\n",
      "['1700', '55.815', '322.663', '281.244', '70.414', '32.837', '140.186', '-4.307']\n",
      "['1800', '56.055', '325.861', '283.634', '76.007', '32.940', '146.497', '-4.251']\n",
      "['1900', '56.262', '328.897', '285.937', '81.624', '33.032', '152.804', '-4.201']\n",
      "['2000', '56.441', '331.788', '288.158', '87.259', '33.111', '159.106', '-4.155']\n",
      "['2100', '56.596', '334.545', '290.302', '92.911', '33.175', '165.404', '-4.114']\n",
      "['2200', '56.732', '337.181', '292.373', '98.577', '33.223', '171.700', '-4.077']\n",
      "['2300', '56.852', '339.706', '294.377', '104.257', '33.255', '177.993', '-4.042']\n",
      "['2400', '56.958', '342.128', '296.316', '109.947', '33.270', '184.285', '-4.011']\n",
      "['2500', '57.052', '344.455', '298.196', '115.648', '33.268', '190.577', '-3.982']\n",
      "['2600', '57.136', '346.694', '300.018', '121.357', '33.248', '196.870', '-3.955']\n",
      "['2700', '57.211', '348.852', '301.787', '127.075', '33.210', '203.164', '-3.930']\n",
      "['2800', '57.278', '350.934', '303.505', '132.799', '33.155', '209.460', '-3.908']\n",
      "['2900', '57.339', '352.945', '305.176', '138.530', '33.082', '215.757', '-3.886']\n",
      "['3000', '57.394', '354.889', '306.800', '144.267', '32.992', '222.058', '-3.866']\n",
      "['3100', '57.444', '356.772', '308.382', '150.009', '32.885', '228.363', '-3.848']\n",
      "['3200', '57.490', '358.597', '309.923', '155.756', '32.761', '234.670', '-3.831']\n",
      "['3300', '57.531', '360.366', '311.425', '161.507', '32.622', '240.981', '-3.814']\n",
      "['3400', '57.569', '362.084', '312.890', '167.262', '32.467', '247.298', '-3.799']\n",
      "['3500', '57.604', '363.754', '314.319', '173.020', '32.297', '253.618', '-3.785']\n",
      "['3600', '57.636', '365.377', '315.715', '178.783', '32.113', '259.945', '-3.772']\n",
      "['3700', '57.666', '366.957', '317.079', '184.548', '31.914', '266.276', '-3.759']\n",
      "['3800', '57.693', '368.495', '318.412', '190.316', '31.701', '272.613', '-3.747']\n",
      "['3900', '57.719', '369.994', '319.715', '196.086', '31.475', '278.956', '-3.736']\n",
      "['4000', '57.742', '371.455', '320.991', '201.859', '31.236', '285.305', '-3.726']\n",
      "['4100', '57.764', '372.881', '322.239', '207.635', '30.985', '291.659', '-3.716']\n",
      "['4200', '57.784', '374.274', '323.461', '213.412', '30.720', '298.020', '-3.706']\n",
      "['4300', '57.803', '375.634', '324.659', '219.191', '30.444', '304.388', '-3.698']\n",
      "['4400', '57.821', '376.963', '325.833', '224.973', '30.155', '310.762', '-3.689']\n",
      "['4500', '57.837', '378.262', '326.983', '230.756', '29.854', '317.142', '-3.681']\n",
      "['4600', '57.853', '379.534', '328.112', '236.540', '29.540', '323.530', '-3.674']\n",
      "['4700', '57.867', '380.778', '329.219', '242.326', '29.214', '329.925', '-3.667']\n",
      "['4800', '57.881', '381.996', '330.306', '248.114', '28.875', '336.326', '-3.660']\n",
      "['4900', '57.894', '383.190', '331.373', '253.902', '28.523', '342.736', '-3.654']\n",
      "['5000', '57.906', '384.360', '332.421', '259.692', '28.158', '349.152', '-3.648']\n",
      "['5100', '57.917', '385.507', '333.451', '265.483', '27.778', '355.576', '-3.642']\n",
      "['5200', '57.928', '386.631', '334.463', '271.276', '27.384', '362.006', '-3.636']\n",
      "['5300', '57.938', '387.735', '335.458', '277.069', '26.974', '368.446', '-3.631']\n",
      "['5400', '57.948', '388.818', '336.436', '282.863', '26.548', '374.892', '-3.626']\n",
      "['5500', '57.957', '389.881', '337.398', '288.658', '26.106', '381.347', '-3.622']\n",
      "['5600', '57.965', '390.926', '338.344', '294.455', '25.646', '387.811', '-3.617']\n",
      "['5700', '57.973', '391.952', '339.276', '300.251', '25.167', '394.281', '-3.613']\n",
      "['5800', '57.981', '392.960', '340.193', '306.049', '24.669', '400.762', '-3.609']\n",
      "['5900', '57.988', '393.951', '341.096', '311.848', '24.150', '407.249', '-3.606']\n",
      "['6000', '57.995', '394.926', '341.985', '317.647', '23.608', '413.748', '-3.602']\n"
     ]
    }
   ],
   "source": [
    "url=\"https://janaf.nist.gov/tables/N-007.txt\"\n",
    "file=requests.get(url)\n",
    "datos=file.text\n",
    "datos=datos.split(\"\\n\")[3:-1]\n",
    "mat=[] \n",
    "for x in datos:\n",
    "    s=x.split(\"\\t\")\n",
    "    print(s)\n",
    "    mat.append([float(a) for a in (s)]) \n",
    "mat=np.array(mat)"
   ]
  },
  {
   "cell_type": "code",
   "execution_count": 27,
   "metadata": {},
   "outputs": [
    {
     "data": {
      "image/png": "[encoded data removed]",
      "text/plain": [
       "<Figure size 432x288 with 1 Axes>"
      ]
     },
     "metadata": {},
     "output_type": "display_data"
    }
   ],
   "source": [
    "T=mat[:,0]\n",
    "Cp=mat[:,1]\n",
    "plt.plot(T,Cp)\n",
    "plt.show()"
   ]
  },
  {
   "cell_type": "code",
   "execution_count": 28,
   "metadata": {},
   "outputs": [
    {
     "data": {
      "text/plain": [
       "array([ 16.10851352,  75.89539116, -54.3872296 ,  14.30775044,\n",
       "         0.23942371])"
      ]
     },
     "execution_count": 28,
     "metadata": {},
     "output_type": "execute_result"
    }
   ],
   "source": [
    "T=T[3:16]\n",
    "y=Cp[3:16]\n",
    "t=T/1000\n",
    "n=len(T)\n",
    "X=np.array([np.ones(n),t,t**2,t**3,1/t**2]).T\n",
    "beta=np.linalg.inv(X.T.dot(X)).dot(X.T.dot(y))\n",
    "beta"
   ]
  },
  {
   "cell_type": "code",
   "execution_count": 29,
   "metadata": {},
   "outputs": [],
   "source": [
    "Cp_calc=beta.dot(X.T)"
   ]
  },
  {
   "cell_type": "code",
   "execution_count": 30,
   "metadata": {},
   "outputs": [
    {
     "data": {
      "image/png": "[encoded data removed]",
      "text/plain": [
       "<Figure size 432x288 with 1 Axes>"
      ]
     },
     "metadata": {},
     "output_type": "display_data"
    }
   ],
   "source": [
    "plt.scatter(T,y)\n",
    "plt.plot(T,Cp_calc,color=\"red\")\n",
    "plt.xlabel(\"T(K)\")\n",
    "plt.ylabel(\"Cp(J/K-mol)\")\n",
    "plt.show()"
   ]
  },
  {
   "cell_type": "code",
   "execution_count": 31,
   "metadata": {},
   "outputs": [],
   "source": [
    "#O2"
   ]
  },
  {
   "cell_type": "code",
   "execution_count": 33,
   "metadata": {},
   "outputs": [
    {
     "name": "stdout",
     "output_type": "stream",
     "text": [
      "['100', '29.106', '173.307', '231.094', '-5.779', '0.', '0.', '0.']\n",
      "['200', '29.126', '193.485', '207.823', '-2.868', '0.', '0.', '0.']\n",
      "['250', '29.201', '199.990', '205.630', '-1.410', '0.', '0.', '0.']\n",
      "['298.15', '29.376', '205.147', '205.147', '0.', '0.', '0.', '0.']\n",
      "['300', '29.385', '205.329', '205.148', '0.054', '0.', '0.', '0.']\n",
      "['350', '29.694', '209.880', '205.506', '1.531', '0.', '0.', '0.']\n",
      "['400', '30.106', '213.871', '206.308', '3.025', '0.', '0.', '0.']\n",
      "['450', '30.584', '217.445', '207.350', '4.543', '0.', '0.', '0.']\n",
      "['500', '31.091', '220.693', '208.524', '6.084', '0.', '0.', '0.']\n",
      "['600', '32.090', '226.451', '211.044', '9.244', '0.', '0.', '0.']\n",
      "['700', '32.981', '231.466', '213.611', '12.499', '0.', '0.', '0.']\n",
      "['800', '33.733', '235.921', '216.126', '15.835', '0.', '0.', '0.']\n",
      "['900', '34.355', '239.931', '218.552', '19.241', '0.', '0.', '0.']\n",
      "['1000', '34.870', '243.578', '220.875', '22.703', '0.', '0.', '0.']\n",
      "['1100', '35.300', '246.922', '223.093', '26.212', '0.', '0.', '0.']\n",
      "['1200', '35.667', '250.010', '225.209', '29.761', '0.', '0.', '0.']\n",
      "['1300', '35.988', '252.878', '227.229', '33.344', '0.', '0.', '0.']\n",
      "['1400', '36.277', '255.556', '229.158', '36.957', '0.', '0.', '0.']\n",
      "['1500', '36.544', '258.068', '231.002', '40.599', '0.', '0.', '0.']\n",
      "['1600', '36.796', '260.434', '232.768', '44.266', '0.', '0.', '0.']\n",
      "['1700', '37.040', '262.672', '234.462', '47.958', '0.', '0.', '0.']\n",
      "['1800', '37.277', '264.796', '236.089', '51.673', '0.', '0.', '0.']\n",
      "['1900', '37.510', '266.818', '237.653', '55.413', '0.', '0.', '0.']\n",
      "['2000', '37.741', '268.748', '239.160', '59.175', '0.', '0.', '0.']\n",
      "['2100', '37.969', '270.595', '240.613', '62.961', '0.', '0.', '0.']\n",
      "['2200', '38.195', '272.366', '242.017', '66.769', '0.', '0.', '0.']\n",
      "['2300', '38.419', '274.069', '243.374', '70.600', '0.', '0.', '0.']\n",
      "['2400', '38.639', '275.709', '244.687', '74.453', '0.', '0.', '0.']\n",
      "['2500', '38.856', '277.290', '245.959', '78.328', '0.', '0.', '0.']\n",
      "['2600', '39.068', '278.819', '247.194', '82.224', '0.', '0.', '0.']\n",
      "['2700', '39.276', '280.297', '248.393', '86.141', '0.', '0.', '0.']\n",
      "['2800', '39.478', '281.729', '249.558', '90.079', '0.', '0.', '0.']\n",
      "['2900', '39.674', '283.118', '250.691', '94.036', '0.', '0.', '0.']\n",
      "['3000', '39.864', '284.466', '251.795', '98.013', '0.', '0.', '0.']\n",
      "['3100', '40.048', '285.776', '252.870', '102.009', '0.', '0.', '0.']\n",
      "['3200', '40.225', '287.050', '253.918', '106.023', '0.', '0.', '0.']\n",
      "['3300', '40.395', '288.291', '254.941', '110.054', '0.', '0.', '0.']\n",
      "['3400', '40.559', '289.499', '255.940', '114.102', '0.', '0.', '0.']\n",
      "['3500', '40.716', '290.677', '256.916', '118.165', '0.', '0.', '0.']\n",
      "['3600', '40.868', '291.826', '257.870', '122.245', '0.', '0.', '0.']\n",
      "['3700', '41.013', '292.948', '258.802', '126.339', '0.', '0.', '0.']\n",
      "['3800', '41.154', '294.044', '259.716', '130.447', '0.', '0.', '0.']\n",
      "['3900', '41.289', '295.115', '260.610', '134.569', '0.', '0.', '0.']\n",
      "['4000', '41.421', '296.162', '261.485', '138.705', '0.', '0.', '0.']\n",
      "['4100', '41.549', '297.186', '262.344', '142.854', '0.', '0.', '0.']\n",
      "['4200', '41.674', '298.189', '263.185', '147.015', '0.', '0.', '0.']\n",
      "['4300', '41.798', '299.171', '264.011', '151.188', '0.', '0.', '0.']\n",
      "['4400', '41.920', '300.133', '264.821', '155.374', '0.', '0.', '0.']\n",
      "['4500', '42.042', '301.076', '265.616', '159.572', '0.', '0.', '0.']\n",
      "['4600', '42.164', '302.002', '266.397', '163.783', '0.', '0.', '0.']\n",
      "['4700', '42.287', '302.910', '267.164', '168.005', '0.', '0.', '0.']\n",
      "['4800', '42.413', '303.801', '267.918', '172.240', '0.', '0.', '0.']\n",
      "['4900', '42.542', '304.677', '268.660', '176.488', '0.', '0.', '0.']\n",
      "['5000', '42.675', '305.538', '269.389', '180.749', '0.', '0.', '0.']\n",
      "['5100', '42.813', '306.385', '270.106', '185.023', '0.', '0.', '0.']\n",
      "['5200', '42.956', '307.217', '270.811', '189.311', '0.', '0.', '0.']\n",
      "['5300', '43.105', '308.037', '271.506', '193.614', '0.', '0.', '0.']\n",
      "['5400', '43.262', '308.844', '272.190', '197.933', '0.', '0.', '0.']\n",
      "['5500', '43.426', '309.639', '272.864', '202.267', '0.', '0.', '0.']\n",
      "['5600', '43.599', '310.424', '273.527', '206.618', '0.', '0.', '0.']\n",
      "['5700', '43.781', '311.197', '274.181', '210.987', '0.', '0.', '0.']\n",
      "['5800', '43.973', '311.960', '274.826', '215.375', '0.', '0.', '0.']\n",
      "['5900', '44.175', '312.713', '275.462', '219.782', '0.', '0.', '0.']\n",
      "['6000', '44.387', '313.457', '276.089', '224.210', '0.', '0.', '0.']\n"
     ]
    }
   ],
   "source": [
    "url=\"https://janaf.nist.gov/tables/O-029.txt\"\n",
    "file=requests.get(url)\n",
    "datos=file.text\n",
    "datos=datos.split(\"\\n\")[3:-1]\n",
    "mat=[]\n",
    "for x in datos:\n",
    "    s=x.split(\"\\t\")\n",
    "    print(s)\n",
    "    mat.append([float(a) for a in (s)])\n",
    "mat=np.array(mat)"
   ]
  },
  {
   "cell_type": "code",
   "execution_count": 34,
   "metadata": {},
   "outputs": [
    {
     "data": {
      "image/png": "[encoded data removed]",
      "text/plain": [
       "<Figure size 432x288 with 1 Axes>"
      ]
     },
     "metadata": {},
     "output_type": "display_data"
    }
   ],
   "source": [
    "T=mat[:,0]\n",
    "Cp=mat[:,1]\n",
    "plt.plot(T,Cp)\n",
    "plt.show()"
   ]
  },
  {
   "cell_type": "code",
   "execution_count": 36,
   "metadata": {},
   "outputs": [
    {
     "data": {
      "text/plain": [
       "array([ 20.08875779,  28.26098019, -17.91250218,   4.23013016,\n",
       "         0.20875206])"
      ]
     },
     "execution_count": 36,
     "metadata": {},
     "output_type": "execute_result"
    }
   ],
   "source": [
    "T=T[3:16]\n",
    "y=Cp[3:16]\n",
    "t=T/1000\n",
    "n=len(T)\n",
    "X=np.array([np.ones(n),t,t**2,t**3,1/t**2]).T\n",
    "beta=np.linalg.inv(X.T.dot(X)).dot(X.T.dot(y))\n",
    "beta"
   ]
  },
  {
   "cell_type": "code",
   "execution_count": 37,
   "metadata": {},
   "outputs": [],
   "source": [
    "Cp_calc=beta.dot(X.T)"
   ]
  },
  {
   "cell_type": "code",
   "execution_count": 39,
   "metadata": {},
   "outputs": [
    {
     "data": {
      "image/png": "[encoded data removed]",
      "text/plain": [
       "<Figure size 432x288 with 1 Axes>"
      ]
     },
     "metadata": {},
     "output_type": "display_data"
    }
   ],
   "source": [
    "plt.scatter(T,y)\n",
    "plt.plot(T,Cp_calc,color=\"gray\")\n",
    "plt.xlabel(\"T(K)\")\n",
    "plt.ylabel(\"Cp(J/K-mol)\")\n",
    "plt.show()"
   ]
  },
  {
   "cell_type": "code",
   "execution_count": null,
   "metadata": {},
   "outputs": [],
   "source": []
  }
 ],
 "metadata": {
  "kernelspec": {
   "display_name": "Python 3",
   "language": "python",
   "name": "python3"
  },
  "language_info": {
   "codemirror_mode": {
    "name": "ipython",
    "version": 3
   },
   "file_extension": ".py",
   "mimetype": "text/x-python",
   "name": "python",
   "nbconvert_exporter": "python",
   "pygments_lexer": "ipython3",
   "version": "3.6.5"
  }
 },
 "nbformat": 4,
 "nbformat_minor": 2
}
