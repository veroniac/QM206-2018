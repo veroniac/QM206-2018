{
 "cells": [
  {
   "cell_type": "code",
   "execution_count": 1,
   "metadata": {},
   "outputs": [],
   "source": [
    "import numpy as np\n",
    "import matplotlib.pyplot as plt "
   ]
  },
  {
   "cell_type": "code",
   "execution_count": 2,
   "metadata": {},
   "outputs": [
    {
     "data": {
      "text/plain": [
       "array([ -0.95555797,  -8.09194493,   2.53762985,  26.26770308,\n",
       "         7.314748  ,   6.26236281,  -0.18609226,  -8.21799106,\n",
       "        -7.50400606,   5.67953297,  -8.87640831,   7.11317575,\n",
       "         7.2972504 ,  -1.44026479,   4.70216237,  10.91202547,\n",
       "         9.78049446,  -1.92408808,  15.85657936,  -3.77165838,\n",
       "         1.68734734,   3.38965061,  14.65337607,   5.40368073,\n",
       "         4.38436422, -10.49233454,   6.22762515, -10.12132455,\n",
       "         5.07205622, -14.34551384,   2.51585326,   8.46724092,\n",
       "       -11.56882518,  34.24528598,  10.91725874,   2.46933238,\n",
       "        -2.9309665 , -11.55138145,   7.67698458,  -6.15410755,\n",
       "         8.74186562,   1.56983343,   0.46646445,  11.93477673,\n",
       "         2.71993451,  -8.89713086,  -4.6324338 ,   3.2887782 ,\n",
       "         4.26543808,   8.74281847,   4.2272389 , -10.58112079,\n",
       "         8.41639348, -13.23106324,   9.84534273, -10.0205266 ,\n",
       "       -20.26448447, -10.20699889, -18.96251402,  17.54877396,\n",
       "        -3.58687666, -15.93671499,  -7.56924064, -17.81852807,\n",
       "        -6.90222494,   1.55401734,  12.21119537,  10.02011991,\n",
       "        -5.84696235, -11.54902617,  -8.27106017,  14.8679079 ,\n",
       "        -5.14860985,  -9.00088987,   4.70209236, -14.55279474,\n",
       "        -4.9065206 ,   0.09029865, -14.65622338,  -7.00704213,\n",
       "        -7.09367399,  10.86718293,  -3.88163127,   3.23805214,\n",
       "        16.29770969,  10.82108726,  10.91240679, -16.52356761,\n",
       "        -7.18390053,  18.10462779,  -1.95356347,   3.14564632,\n",
       "        -7.546122  ,   0.10598392,  -4.09224177,   2.061809  ,\n",
       "         1.34639166,  12.49840414,  -2.51997257,  -9.79693888])"
      ]
     },
     "execution_count": 2,
     "metadata": {},
     "output_type": "execute_result"
    }
   ],
   "source": [
    "x=np.random.randn(100)*10\n",
    "x"
   ]
  },
  {
   "cell_type": "code",
   "execution_count": 3,
   "metadata": {},
   "outputs": [
    {
     "data": {
      "text/plain": [
       "array([ 14.32607241,  -7.46919709,   1.03875066, -12.84684306,\n",
       "        -4.60469541,   2.09174517,   9.18233576,  -3.55909019,\n",
       "       -20.45733447,   3.41524425, -12.68965642,  -1.08664082,\n",
       "        -5.57899675,  -0.64418768, -15.27830435,   1.84460134,\n",
       "       -16.08801118,  -2.0571505 ,  -7.21770313, -16.08593517,\n",
       "       -16.80998341,  20.76945838,   3.46133992, -10.18309571,\n",
       "         6.81610395, -17.35923183,  10.01234291,  -5.123828  ,\n",
       "        -5.80881348, -26.09127596, -15.78040029, -11.89834614,\n",
       "        -4.77521648, -13.72237727,   6.1951936 ,  -2.77893916,\n",
       "        10.72142133,  -4.95646989, -13.55523593, -12.03996152,\n",
       "       -29.89099695,   1.60550846,   4.28763413,  -6.89935637,\n",
       "       -11.0155092 ,  18.99368418,   9.1657781 , -12.26942728,\n",
       "        14.72427301,  -6.44791181,   0.34080088,  -7.32060464,\n",
       "        -6.70818528, -10.07626362,  -8.42578147,  -5.63396372,\n",
       "         6.41974959,  -3.69585761,  10.94293902,  -3.92267199,\n",
       "         0.59751826,   0.31600069,  -7.41911466,   1.52065862,\n",
       "       -14.44635426,  -3.69562017,  -0.83138059,   4.93660144,\n",
       "        -8.8412382 ,  17.73504224,   4.18257059,  23.09078785,\n",
       "         6.9653244 ,  -4.33420268, -12.16210834,  -3.20312538,\n",
       "        -7.76156501,   1.5562234 ,  11.18870099,  -8.10931591,\n",
       "         2.48245282,  -6.83209388,  -6.27230045,  15.85226448,\n",
       "        -6.28399876,   4.58080941,  -7.40246873,  21.42837247,\n",
       "        -9.58977756, -24.13653089, -11.10561335, -19.97578879,\n",
       "        -5.63795164,  -3.3158754 , -18.15734247,  -1.48523847,\n",
       "        26.7470486 ,  -7.8152228 ,  -3.60212091,   1.17978437])"
      ]
     },
     "execution_count": 3,
     "metadata": {},
     "output_type": "execute_result"
    }
   ],
   "source": [
    "y=np.random.randn(100)*10\n",
    "y"
   ]
  },
  {
   "cell_type": "code",
   "execution_count": 4,
   "metadata": {},
   "outputs": [
    {
     "data": {
      "text/plain": [
       "array([ 0,  1,  2,  3,  4,  5,  6,  7,  8,  9, 10, 11, 12, 13, 14, 15, 16,\n",
       "       17, 18, 19, 20, 21, 22, 23, 24, 25, 26, 27, 28, 29, 30, 31, 32, 33,\n",
       "       34, 35, 36, 37, 38, 39, 40, 41, 42, 43, 44, 45, 46, 47, 48, 49, 50,\n",
       "       51, 52, 53, 54, 55, 56, 57, 58, 59, 60, 61, 62, 63, 64, 65, 66, 67,\n",
       "       68, 69, 70, 71, 72, 73, 74, 75, 76, 77, 78, 79, 80, 81, 82, 83, 84,\n",
       "       85, 86, 87, 88, 89, 90, 91, 92, 93, 94, 95, 96, 97, 98, 99])"
      ]
     },
     "execution_count": 4,
     "metadata": {},
     "output_type": "execute_result"
    }
   ],
   "source": [
    "xx = np.arange(100)\n",
    "xx"
   ]
  },
  {
   "cell_type": "code",
   "execution_count": 5,
   "metadata": {},
   "outputs": [
    {
     "data": {
      "text/plain": [
       "array([ 0,  1,  2,  3,  4,  5,  6,  7,  8,  9, 10, 11, 12, 13, 14, 15, 16,\n",
       "       17, 18, 19, 20, 21, 22, 23, 24, 25, 26, 27, 28, 29, 30, 31, 32, 33,\n",
       "       34, 35, 36, 37, 38, 39, 40, 41, 42, 43, 44, 45, 46, 47, 48, 49, 50,\n",
       "       51, 52, 53, 54, 55, 56, 57, 58, 59, 60, 61, 62, 63, 64, 65, 66, 67,\n",
       "       68, 69, 70, 71, 72, 73, 74, 75, 76, 77, 78, 79, 80, 81, 82, 83, 84,\n",
       "       85, 86, 87, 88, 89, 90, 91, 92, 93, 94, 95, 96, 97, 98, 99])"
      ]
     },
     "execution_count": 5,
     "metadata": {},
     "output_type": "execute_result"
    }
   ],
   "source": [
    "yy = np.arange(100)\n",
    "yy"
   ]
  },
  {
   "cell_type": "code",
   "execution_count": 6,
   "metadata": {},
   "outputs": [
    {
     "data": {
      "image/png": "[encoded data removed]",
      "text/plain": [
       "<Figure size 432x288 with 1 Axes>"
      ]
     },
     "metadata": {},
     "output_type": "display_data"
    }
   ],
   "source": [
    "plt.plot(xx,yy)\n",
    "plt.show()"
   ]
  },
  {
   "cell_type": "code",
   "execution_count": null,
   "metadata": {},
   "outputs": [],
   "source": []
  }
 ],
 "metadata": {
  "kernelspec": {
   "display_name": "Python 3",
   "language": "python",
   "name": "python3"
  },
  "language_info": {
   "codemirror_mode": {
    "name": "ipython",
    "version": 3
   },
   "file_extension": ".py",
   "mimetype": "text/x-python",
   "name": "python",
   "nbconvert_exporter": "python",
   "pygments_lexer": "ipython3",
   "version": "3.6.5"
  }
 },
 "nbformat": 4,
 "nbformat_minor": 2
}
