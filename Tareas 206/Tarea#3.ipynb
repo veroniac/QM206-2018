{
 "cells": [
  {
   "cell_type": "code",
   "execution_count": 1,
   "metadata": {},
   "outputs": [],
   "source": [
    "import requests"
   ]
  },
  {
   "cell_type": "code",
   "execution_count": 5,
   "metadata": {},
   "outputs": [
    {
     "data": {
      "text/plain": [
       "<Response [200]>"
      ]
     },
     "execution_count": 5,
     "metadata": {},
     "output_type": "execute_result"
    }
   ],
   "source": [
    "url='http://qm206.1apps.com/fasta01.txt'\n",
    "respuesta=requests.get(url)\n",
    "respuesta"
   ]
  },
  {
   "cell_type": "code",
   "execution_count": 87,
   "metadata": {},
   "outputs": [
    {
     "data": {
      "text/plain": [
       "['>Secuencia_640445\\n',\n",
       " 'CCTGCGGAAGATCGGCACTAGAATAGCCAGAACCGTTTCTCTGAGGCTTCCGGCCTTCCC\\n',\n",
       " 'TCCCACTAATAATTCTGAGG\\n',\n",
       " '>Secuencia_59591\\n',\n",
       " 'CCATCGGTAGCGCATCCTTAGTCCAATTAAGTCCCTATCCAGGCGCTCCGCCGAAGGTCT\\n',\n",
       " 'ATATCCATTTGTCAGCAGACACGC\\n',\n",
       " '>Secuencia_08083456\\n',\n",
       " 'CCACCCTCGTGGTATGGCTAGGCATTCAGGAACCGGAGAACGCTTCAGACCAGCCCGGAC\\n',\n",
       " 'TGGGAACCTGCGGGCAGTAGGTGGAAT']"
      ]
     },
     "execution_count": 87,
     "metadata": {},
     "output_type": "execute_result"
    }
   ],
   "source": [
    "f=open(\"fasta01.txt\") #para modificaciones de archivo de texto txt\n",
    "texto=f.readlines()\n",
    "for s in texto:\n",
    "    cadena=s.replace('\\n', ',')\n",
    "    cadena=s.replace(',,' , ',')\n",
    "    cadena=s.replace(',,' , ',')\n",
    "    cadena=s.split('\\n')\n",
    "texto"
   ]
  },
  {
   "cell_type": "code",
   "execution_count": null,
   "metadata": {},
   "outputs": [],
   "source": []
  }
 ],
 "metadata": {
  "kernelspec": {
   "display_name": "Python 3",
   "language": "python",
   "name": "python3"
  },
  "language_info": {
   "codemirror_mode": {
    "name": "ipython",
    "version": 3
   },
   "file_extension": ".py",
   "mimetype": "text/x-python",
   "name": "python",
   "nbconvert_exporter": "python",
   "pygments_lexer": "ipython3",
   "version": "3.6.5"
  }
 },
 "nbformat": 4,
 "nbformat_minor": 2
}
